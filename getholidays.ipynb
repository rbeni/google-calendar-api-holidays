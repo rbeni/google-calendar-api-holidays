{
 "cells": [
  {
   "cell_type": "code",
   "execution_count": 9,
   "metadata": {},
   "outputs": [],
   "source": [
    "import requests\n",
    "import configs"
   ]
  },
  {
   "cell_type": "code",
   "execution_count": 10,
   "metadata": {},
   "outputs": [],
   "source": [
    "r = requests.get(f'https://www.googleapis.com/calendar/v3/calendars/pt.brazilian%23holiday%40group.v.calendar.google.com/events?key={configs.api_key}&timeMax=2023-12-31T10%3A00%3A00-07%3A00&timeMin=2023-01-01T10%3A00%3A00-07%3A00')"
   ]
  },
  {
   "cell_type": "code",
   "execution_count": 11,
   "metadata": {},
   "outputs": [
    {
     "data": {
      "text/plain": [
       "200"
      ]
     },
     "execution_count": 11,
     "metadata": {},
     "output_type": "execute_result"
    }
   ],
   "source": [
    "r.status_code"
   ]
  },
  {
   "cell_type": "code",
   "execution_count": 12,
   "metadata": {},
   "outputs": [
    {
     "name": "stdout",
     "output_type": "stream",
     "text": [
      "28\n"
     ]
    }
   ],
   "source": [
    "dates = r.json()['items']\n",
    "print(len(dates))"
   ]
  },
  {
   "cell_type": "code",
   "execution_count": 13,
   "metadata": {},
   "outputs": [],
   "source": [
    "def getDateInfo(date):\n",
    "\n",
    "    # Get name of the holiday\n",
    "    name = date['summary']\n",
    "\n",
    "    # Get date\n",
    "    start_day = date['start']['date']\n",
    "    end_day = date['end']['date']\n",
    "\n",
    "    return name, start_day, end_day"
   ]
  },
  {
   "cell_type": "code",
   "execution_count": 14,
   "metadata": {},
   "outputs": [
    {
     "name": "stdout",
     "output_type": "stream",
     "text": [
      "('Ano Novo', '2023-01-01', '2023-01-02')\n",
      "('Sexta-Feira de Carnaval', '2023-02-17', '2023-02-18')\n",
      "('Sábado de Carnaval', '2023-02-18', '2023-02-19')\n",
      "('Domingo de Carnaval', '2023-02-19', '2023-02-20')\n",
      "('Carnaval (Segunda-feira)', '2023-02-20', '2023-02-21')\n",
      "('Carnaval (Terça-feira)', '2023-02-21', '2023-02-22')\n",
      "('Cinzas (até 14 horas)', '2023-02-22', '2023-02-23')\n",
      "('Paixão de Cristo', '2023-04-07', '2023-04-08')\n",
      "('Domingo de Páscoa', '2023-04-09', '2023-04-10')\n",
      "('Tiradentes', '2023-04-21', '2023-04-22')\n",
      "('Dia do Trabalho', '2023-05-01', '2023-05-02')\n",
      "('Dia das Mães', '2023-05-14', '2023-05-15')\n",
      "('Dia Nacional da Liberdade de Imprensa', '2023-06-07', '2023-06-08')\n",
      "('Dia dos Namorados', '2023-06-12', '2023-06-13')\n",
      "('Dia da Mulher Negra Latino-Americana e Caribenha', '2023-07-25', '2023-07-26')\n",
      "('Dia dos Pais', '2023-08-13', '2023-08-14')\n",
      "('Independência', '2023-09-07', '2023-09-08')\n",
      "('Corpo de Deus', '2023-06-08', '2023-06-09')\n",
      "('Nossa Senhora de Aparecida', '2023-10-12', '2023-10-13')\n",
      "('Dia do Professor', '2023-10-15', '2023-10-16')\n",
      "('Dia do Servidor Público', '2023-10-28', '2023-10-29')\n",
      "('Dia do Saci', '2023-10-31', '2023-11-01')\n",
      "('Finados', '2023-11-02', '2023-11-03')\n",
      "('Proclamação da República', '2023-11-15', '2023-11-16')\n",
      "('Dia da Consciência Negra', '2023-11-20', '2023-11-21')\n",
      "('Véspera de Natal (após às 14 horas)', '2023-12-24', '2023-12-25')\n",
      "('Natal', '2023-12-25', '2023-12-26')\n",
      "('Véspera de Ano Novo (após às 14 horas)', '2023-12-31', '2024-01-01')\n"
     ]
    }
   ],
   "source": [
    "for date in dates:\n",
    "    print(getDateInfo(date))"
   ]
  },
  {
   "cell_type": "code",
   "execution_count": null,
   "metadata": {},
   "outputs": [],
   "source": []
  }
 ],
 "metadata": {
  "kernelspec": {
   "display_name": "ds",
   "language": "python",
   "name": "python3"
  },
  "language_info": {
   "codemirror_mode": {
    "name": "ipython",
    "version": 3
   },
   "file_extension": ".py",
   "mimetype": "text/x-python",
   "name": "python",
   "nbconvert_exporter": "python",
   "pygments_lexer": "ipython3",
   "version": "3.11.4"
  }
 },
 "nbformat": 4,
 "nbformat_minor": 2
}
